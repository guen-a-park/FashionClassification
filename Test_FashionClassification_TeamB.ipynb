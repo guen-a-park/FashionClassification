{
 "cells": [
  {
   "cell_type": "code",
   "execution_count": null,
   "metadata": {
    "colab": {
     "base_uri": "https://localhost:8080/"
    },
    "executionInfo": {
     "elapsed": 49939,
     "status": "ok",
     "timestamp": 1654818431700,
     "user": {
      "displayName": "Haeun Lee",
      "userId": "18204698120767963852"
     },
     "user_tz": -540
    },
    "id": "xLp0M5j4uWcM",
    "outputId": "1e2e0ead-d068-4195-c2e6-0f9acc01cdf7"
   },
   "outputs": [
    {
     "name": "stdout",
     "output_type": "stream",
     "text": [
      "Mounted at /content/drive\n"
     ]
    }
   ],
   "source": [
    "from google.colab import drive\n",
    "drive.mount('/content/drive')"
   ]
  },
  {
   "cell_type": "code",
   "execution_count": null,
   "metadata": {
    "id": "3BKJ4xSut2-C"
   },
   "outputs": [],
   "source": [
    "import numpy as np\n",
    "import matplotlib\n",
    "import matplotlib.pyplot as plt\n",
    "import matplotlib.patches as mpatches\n",
    "import torch\n",
    "from torch import nn\n",
    "import torch.optim as optim\n",
    "import torch.nn.functional as F\n",
    "from torchvision import transforms, models\n",
    "\n",
    "from torch.autograd import Variable\n",
    "import torch.utils.data as data\n",
    "import pandas as pd\n",
    "import os\n",
    "from PIL import Image\n",
    "from torch.utils.data import DataLoader, TensorDataset\n",
    "\n",
    "import sklearn.model_selection as sk\n",
    "\n"
   ]
  },
  {
   "cell_type": "code",
   "execution_count": null,
   "metadata": {
    "id": "tFeeLiaUt2-H"
   },
   "outputs": [],
   "source": [
    "# Path for (unlabeled) test data\n",
    "test_path = '/content/drive/MyDrive/FashionClassification/Test/'"
   ]
  },
  {
   "cell_type": "code",
   "execution_count": null,
   "metadata": {
    "id": "rLC99LwJrIH2"
   },
   "outputs": [],
   "source": [
    "import re\n",
    "def num_sort(test_string):\n",
    "    return list(map(int, re.findall(r'\\d+', test_string)))[0]"
   ]
  },
  {
   "cell_type": "code",
   "execution_count": null,
   "metadata": {
    "id": "ErnJPJZenTef"
   },
   "outputs": [],
   "source": [
    "# Prepare test data set\n",
    "\n",
    "data=[]\n",
    "label=[]\n",
    "\n",
    "files = os.listdir(test_path)\n",
    "files.sort(key=num_sort)\n",
    "\n",
    "for f in files:\n",
    "  img = Image.open(test_path+f)\n",
    "  img = img.resize((224, 224)) #(150,150)\n",
    "  one_img = np.asarray(np.float32(img))\n",
    "  norm_img = (one_img-np.min(one_img))/(np.max(one_img)-np.min(one_img))\n",
    "  data.append(norm_img.transpose(2,0,1))  # (150,150,3) --> (3,150,150)\n",
    "  label.append(0)    # dummy label for preparing dataloader\n",
    "\n",
    "        \n",
    "data = np.array(data, dtype='float32')\n",
    "label = np.array(label, dtype='int64')\n",
    "\n",
    "test_X = torch.from_numpy(data)\n",
    "test_Y = torch.from_numpy(label)\n",
    "\n",
    "test_X = test_X.type(torch.cuda.FloatTensor)\n",
    "test_Y = test_Y.type(torch.cuda.LongTensor)\n",
    "\n",
    "test_dataset = TensorDataset(test_X,test_Y)\n",
    "test_loader = DataLoader(test_dataset, batch_size=1, shuffle=False)"
   ]
  },
  {
   "cell_type": "code",
   "execution_count": null,
   "metadata": {
    "colab": {
     "base_uri": "https://localhost:8080/"
    },
    "executionInfo": {
     "elapsed": 277,
     "status": "ok",
     "timestamp": 1654819492584,
     "user": {
      "displayName": "Haeun Lee",
      "userId": "18204698120767963852"
     },
     "user_tz": -540
    },
    "id": "0ODWJg_At2-I",
    "outputId": "066e8d61-7974-4d17-eb0f-c256377349de"
   },
   "outputs": [
    {
     "name": "stdout",
     "output_type": "stream",
     "text": [
      "torch.Size([6, 3, 224, 224]) torch.Size([6])\n"
     ]
    }
   ],
   "source": [
    "print(test_X.shape, test_Y.shape)"
   ]
  },
  {
   "cell_type": "code",
   "execution_count": null,
   "metadata": {
    "colab": {
     "base_uri": "https://localhost:8080/"
    },
    "executionInfo": {
     "elapsed": 283,
     "status": "ok",
     "timestamp": 1654818675992,
     "user": {
      "displayName": "Haeun Lee",
      "userId": "18204698120767963852"
     },
     "user_tz": -540
    },
    "id": "N715rB17oaht",
    "outputId": "ae3f0008-bfcd-4050-b2a1-aed12f0a1979"
   },
   "outputs": [
    {
     "name": "stdout",
     "output_type": "stream",
     "text": [
      "cuda\n"
     ]
    }
   ],
   "source": [
    "DEVICE = torch.device('cuda') if torch.cuda.is_available() else torch.device('cpu')\n",
    "print(DEVICE)"
   ]
  },
  {
   "cell_type": "code",
   "execution_count": null,
   "metadata": {
    "id": "AYnsnjgHJjkU"
   },
   "outputs": [],
   "source": [
    "# Build convolutional neural net\n",
    "# IMPORTNT: This structure should be same as the one used for training (so simply copy and paste the correponding codes)\n",
    "##### To do #####\n",
    "# 1x1 convolution\n",
    "def conv_1(in_dim, out_dim):\n",
    "    model = nn.Sequential(\n",
    "        nn.Conv2d(in_dim,out_dim,1,1),\n",
    "        nn.ReLU(),\n",
    "    )\n",
    "    return model\n",
    "\n",
    "# 1x1 conv -> 3x3 convolution\n",
    "def conv_1_3(in_dim,mid_dim,out_dim):\n",
    "    model = nn.Sequential(\n",
    "        nn.Conv2d(in_dim,mid_dim,1,1),\n",
    "        nn.ReLU(),\n",
    "        nn.Conv2d(mid_dim,out_dim,kernel_size = 3,stride = 1,padding = 1),\n",
    "        nn.ReLU()\n",
    "    )\n",
    "    return model\n",
    "\n",
    "# 1x1 conv -> 5x5 convolution\n",
    "def conv_1_5(in_dim,mid_dim,out_dim):\n",
    "    model = nn.Sequential(\n",
    "        nn.Conv2d(in_dim,mid_dim,1,1),\n",
    "        nn.ReLU(),\n",
    "        nn.Conv2d(mid_dim,out_dim,5,1,2),\n",
    "        nn.ReLU()\n",
    "    )\n",
    "    return model\n",
    "\n",
    "# 3x3 maxPooling -> 1x1 convolution\n",
    "def max_3_1(in_dim, out_dim):\n",
    "    model = nn.Sequential(\n",
    "        nn.MaxPool2d(kernel_size=3, stride=1, padding=1),\n",
    "        nn.Conv2d(in_dim, out_dim, 1,1),\n",
    "        nn.ReLU(),\n",
    "    )\n",
    "    return model\n",
    "\n",
    "\n",
    "#Inception Module\n",
    "class inception_module(nn.Module):\n",
    "    def __init__(self,in_dim,out_dim_1,mid_dim_3,out_dim_3,mid_dim_5,out_dim_5,pool_dim):\n",
    "        super(inception_module,self).__init__()\n",
    "        # 1x1 Convolution\n",
    "        self.conv_1 = conv_1(in_dim,out_dim_1)\n",
    "        \n",
    "        # 1x1 Convolution -> 3x3 Convolution\n",
    "        self.conv_1_3 = conv_1_3(in_dim,mid_dim_3,out_dim_3)\n",
    "        \n",
    "        # 1x1 Convolution -> 5x5 Convolution\n",
    "        self.conv_1_5 = conv_1_5(in_dim,mid_dim_5,out_dim_5)\n",
    "        \n",
    "        # 3x3 MaxPooling -> 1x1 Convolution\n",
    "        self.max_3_1 = max_3_1(in_dim,pool_dim)\n",
    "\n",
    "    def forward(self,x):\n",
    "        out_1 = self.conv_1(x)\n",
    "        out_2 = self.conv_1_3(x)\n",
    "        out_3 = self.conv_1_5(x)\n",
    "        out_4 = self.max_3_1(x)\n",
    "        # concat\n",
    "        output = torch.cat([out_1,out_2,out_3,out_4],1)\n",
    "        return output\n"
   ]
  },
  {
   "cell_type": "code",
   "execution_count": null,
   "metadata": {
    "colab": {
     "base_uri": "https://localhost:8080/"
    },
    "executionInfo": {
     "elapsed": 4,
     "status": "ok",
     "timestamp": 1654818681809,
     "user": {
      "displayName": "Haeun Lee",
      "userId": "18204698120767963852"
     },
     "user_tz": -540
    },
    "id": "wsW78AuAsUMT",
    "outputId": "95d9c1b8-11c3-4b1c-cc8a-fd1662d181ef"
   },
   "outputs": [
    {
     "data": {
      "text/plain": [
       "GoogLeNet(\n",
       "  (layer_1): Sequential(\n",
       "    (0): Conv2d(3, 64, kernel_size=(7, 7), stride=(2, 2), padding=(3, 3))\n",
       "    (1): MaxPool2d(kernel_size=3, stride=2, padding=1, dilation=1, ceil_mode=False)\n",
       "    (2): Conv2d(64, 192, kernel_size=(3, 3), stride=(1, 1), padding=(1, 1))\n",
       "    (3): MaxPool2d(kernel_size=3, stride=2, padding=1, dilation=1, ceil_mode=False)\n",
       "  )\n",
       "  (layer_2): Sequential(\n",
       "    (0): inception_module(\n",
       "      (conv_1): Sequential(\n",
       "        (0): Conv2d(192, 64, kernel_size=(1, 1), stride=(1, 1))\n",
       "        (1): ReLU()\n",
       "      )\n",
       "      (conv_1_3): Sequential(\n",
       "        (0): Conv2d(192, 96, kernel_size=(1, 1), stride=(1, 1))\n",
       "        (1): ReLU()\n",
       "        (2): Conv2d(96, 128, kernel_size=(3, 3), stride=(1, 1), padding=(1, 1))\n",
       "        (3): ReLU()\n",
       "      )\n",
       "      (conv_1_5): Sequential(\n",
       "        (0): Conv2d(192, 16, kernel_size=(1, 1), stride=(1, 1))\n",
       "        (1): ReLU()\n",
       "        (2): Conv2d(16, 32, kernel_size=(5, 5), stride=(1, 1), padding=(2, 2))\n",
       "        (3): ReLU()\n",
       "      )\n",
       "      (max_3_1): Sequential(\n",
       "        (0): MaxPool2d(kernel_size=3, stride=1, padding=1, dilation=1, ceil_mode=False)\n",
       "        (1): Conv2d(192, 32, kernel_size=(1, 1), stride=(1, 1))\n",
       "        (2): ReLU()\n",
       "      )\n",
       "    )\n",
       "    (1): inception_module(\n",
       "      (conv_1): Sequential(\n",
       "        (0): Conv2d(256, 128, kernel_size=(1, 1), stride=(1, 1))\n",
       "        (1): ReLU()\n",
       "      )\n",
       "      (conv_1_3): Sequential(\n",
       "        (0): Conv2d(256, 128, kernel_size=(1, 1), stride=(1, 1))\n",
       "        (1): ReLU()\n",
       "        (2): Conv2d(128, 192, kernel_size=(3, 3), stride=(1, 1), padding=(1, 1))\n",
       "        (3): ReLU()\n",
       "      )\n",
       "      (conv_1_5): Sequential(\n",
       "        (0): Conv2d(256, 32, kernel_size=(1, 1), stride=(1, 1))\n",
       "        (1): ReLU()\n",
       "        (2): Conv2d(32, 96, kernel_size=(5, 5), stride=(1, 1), padding=(2, 2))\n",
       "        (3): ReLU()\n",
       "      )\n",
       "      (max_3_1): Sequential(\n",
       "        (0): MaxPool2d(kernel_size=3, stride=1, padding=1, dilation=1, ceil_mode=False)\n",
       "        (1): Conv2d(256, 64, kernel_size=(1, 1), stride=(1, 1))\n",
       "        (2): ReLU()\n",
       "      )\n",
       "    )\n",
       "    (2): MaxPool2d(kernel_size=3, stride=2, padding=1, dilation=1, ceil_mode=False)\n",
       "  )\n",
       "  (layer_3): Sequential(\n",
       "    (0): inception_module(\n",
       "      (conv_1): Sequential(\n",
       "        (0): Conv2d(480, 192, kernel_size=(1, 1), stride=(1, 1))\n",
       "        (1): ReLU()\n",
       "      )\n",
       "      (conv_1_3): Sequential(\n",
       "        (0): Conv2d(480, 96, kernel_size=(1, 1), stride=(1, 1))\n",
       "        (1): ReLU()\n",
       "        (2): Conv2d(96, 208, kernel_size=(3, 3), stride=(1, 1), padding=(1, 1))\n",
       "        (3): ReLU()\n",
       "      )\n",
       "      (conv_1_5): Sequential(\n",
       "        (0): Conv2d(480, 16, kernel_size=(1, 1), stride=(1, 1))\n",
       "        (1): ReLU()\n",
       "        (2): Conv2d(16, 48, kernel_size=(5, 5), stride=(1, 1), padding=(2, 2))\n",
       "        (3): ReLU()\n",
       "      )\n",
       "      (max_3_1): Sequential(\n",
       "        (0): MaxPool2d(kernel_size=3, stride=1, padding=1, dilation=1, ceil_mode=False)\n",
       "        (1): Conv2d(480, 64, kernel_size=(1, 1), stride=(1, 1))\n",
       "        (2): ReLU()\n",
       "      )\n",
       "    )\n",
       "    (1): inception_module(\n",
       "      (conv_1): Sequential(\n",
       "        (0): Conv2d(512, 160, kernel_size=(1, 1), stride=(1, 1))\n",
       "        (1): ReLU()\n",
       "      )\n",
       "      (conv_1_3): Sequential(\n",
       "        (0): Conv2d(512, 112, kernel_size=(1, 1), stride=(1, 1))\n",
       "        (1): ReLU()\n",
       "        (2): Conv2d(112, 224, kernel_size=(3, 3), stride=(1, 1), padding=(1, 1))\n",
       "        (3): ReLU()\n",
       "      )\n",
       "      (conv_1_5): Sequential(\n",
       "        (0): Conv2d(512, 24, kernel_size=(1, 1), stride=(1, 1))\n",
       "        (1): ReLU()\n",
       "        (2): Conv2d(24, 64, kernel_size=(5, 5), stride=(1, 1), padding=(2, 2))\n",
       "        (3): ReLU()\n",
       "      )\n",
       "      (max_3_1): Sequential(\n",
       "        (0): MaxPool2d(kernel_size=3, stride=1, padding=1, dilation=1, ceil_mode=False)\n",
       "        (1): Conv2d(512, 64, kernel_size=(1, 1), stride=(1, 1))\n",
       "        (2): ReLU()\n",
       "      )\n",
       "    )\n",
       "    (2): inception_module(\n",
       "      (conv_1): Sequential(\n",
       "        (0): Conv2d(512, 128, kernel_size=(1, 1), stride=(1, 1))\n",
       "        (1): ReLU()\n",
       "      )\n",
       "      (conv_1_3): Sequential(\n",
       "        (0): Conv2d(512, 128, kernel_size=(1, 1), stride=(1, 1))\n",
       "        (1): ReLU()\n",
       "        (2): Conv2d(128, 256, kernel_size=(3, 3), stride=(1, 1), padding=(1, 1))\n",
       "        (3): ReLU()\n",
       "      )\n",
       "      (conv_1_5): Sequential(\n",
       "        (0): Conv2d(512, 24, kernel_size=(1, 1), stride=(1, 1))\n",
       "        (1): ReLU()\n",
       "        (2): Conv2d(24, 64, kernel_size=(5, 5), stride=(1, 1), padding=(2, 2))\n",
       "        (3): ReLU()\n",
       "      )\n",
       "      (max_3_1): Sequential(\n",
       "        (0): MaxPool2d(kernel_size=3, stride=1, padding=1, dilation=1, ceil_mode=False)\n",
       "        (1): Conv2d(512, 64, kernel_size=(1, 1), stride=(1, 1))\n",
       "        (2): ReLU()\n",
       "      )\n",
       "    )\n",
       "    (3): inception_module(\n",
       "      (conv_1): Sequential(\n",
       "        (0): Conv2d(512, 112, kernel_size=(1, 1), stride=(1, 1))\n",
       "        (1): ReLU()\n",
       "      )\n",
       "      (conv_1_3): Sequential(\n",
       "        (0): Conv2d(512, 144, kernel_size=(1, 1), stride=(1, 1))\n",
       "        (1): ReLU()\n",
       "        (2): Conv2d(144, 288, kernel_size=(3, 3), stride=(1, 1), padding=(1, 1))\n",
       "        (3): ReLU()\n",
       "      )\n",
       "      (conv_1_5): Sequential(\n",
       "        (0): Conv2d(512, 32, kernel_size=(1, 1), stride=(1, 1))\n",
       "        (1): ReLU()\n",
       "        (2): Conv2d(32, 64, kernel_size=(5, 5), stride=(1, 1), padding=(2, 2))\n",
       "        (3): ReLU()\n",
       "      )\n",
       "      (max_3_1): Sequential(\n",
       "        (0): MaxPool2d(kernel_size=3, stride=1, padding=1, dilation=1, ceil_mode=False)\n",
       "        (1): Conv2d(512, 64, kernel_size=(1, 1), stride=(1, 1))\n",
       "        (2): ReLU()\n",
       "      )\n",
       "    )\n",
       "    (4): inception_module(\n",
       "      (conv_1): Sequential(\n",
       "        (0): Conv2d(528, 256, kernel_size=(1, 1), stride=(1, 1))\n",
       "        (1): ReLU()\n",
       "      )\n",
       "      (conv_1_3): Sequential(\n",
       "        (0): Conv2d(528, 160, kernel_size=(1, 1), stride=(1, 1))\n",
       "        (1): ReLU()\n",
       "        (2): Conv2d(160, 320, kernel_size=(3, 3), stride=(1, 1), padding=(1, 1))\n",
       "        (3): ReLU()\n",
       "      )\n",
       "      (conv_1_5): Sequential(\n",
       "        (0): Conv2d(528, 32, kernel_size=(1, 1), stride=(1, 1))\n",
       "        (1): ReLU()\n",
       "        (2): Conv2d(32, 128, kernel_size=(5, 5), stride=(1, 1), padding=(2, 2))\n",
       "        (3): ReLU()\n",
       "      )\n",
       "      (max_3_1): Sequential(\n",
       "        (0): MaxPool2d(kernel_size=3, stride=1, padding=1, dilation=1, ceil_mode=False)\n",
       "        (1): Conv2d(528, 128, kernel_size=(1, 1), stride=(1, 1))\n",
       "        (2): ReLU()\n",
       "      )\n",
       "    )\n",
       "    (5): MaxPool2d(kernel_size=3, stride=2, padding=1, dilation=1, ceil_mode=False)\n",
       "  )\n",
       "  (layer_4): Sequential(\n",
       "    (0): inception_module(\n",
       "      (conv_1): Sequential(\n",
       "        (0): Conv2d(832, 256, kernel_size=(1, 1), stride=(1, 1))\n",
       "        (1): ReLU()\n",
       "      )\n",
       "      (conv_1_3): Sequential(\n",
       "        (0): Conv2d(832, 160, kernel_size=(1, 1), stride=(1, 1))\n",
       "        (1): ReLU()\n",
       "        (2): Conv2d(160, 320, kernel_size=(3, 3), stride=(1, 1), padding=(1, 1))\n",
       "        (3): ReLU()\n",
       "      )\n",
       "      (conv_1_5): Sequential(\n",
       "        (0): Conv2d(832, 32, kernel_size=(1, 1), stride=(1, 1))\n",
       "        (1): ReLU()\n",
       "        (2): Conv2d(32, 128, kernel_size=(5, 5), stride=(1, 1), padding=(2, 2))\n",
       "        (3): ReLU()\n",
       "      )\n",
       "      (max_3_1): Sequential(\n",
       "        (0): MaxPool2d(kernel_size=3, stride=1, padding=1, dilation=1, ceil_mode=False)\n",
       "        (1): Conv2d(832, 128, kernel_size=(1, 1), stride=(1, 1))\n",
       "        (2): ReLU()\n",
       "      )\n",
       "    )\n",
       "    (1): inception_module(\n",
       "      (conv_1): Sequential(\n",
       "        (0): Conv2d(832, 384, kernel_size=(1, 1), stride=(1, 1))\n",
       "        (1): ReLU()\n",
       "      )\n",
       "      (conv_1_3): Sequential(\n",
       "        (0): Conv2d(832, 192, kernel_size=(1, 1), stride=(1, 1))\n",
       "        (1): ReLU()\n",
       "        (2): Conv2d(192, 384, kernel_size=(3, 3), stride=(1, 1), padding=(1, 1))\n",
       "        (3): ReLU()\n",
       "      )\n",
       "      (conv_1_5): Sequential(\n",
       "        (0): Conv2d(832, 48, kernel_size=(1, 1), stride=(1, 1))\n",
       "        (1): ReLU()\n",
       "        (2): Conv2d(48, 128, kernel_size=(5, 5), stride=(1, 1), padding=(2, 2))\n",
       "        (3): ReLU()\n",
       "      )\n",
       "      (max_3_1): Sequential(\n",
       "        (0): MaxPool2d(kernel_size=3, stride=1, padding=1, dilation=1, ceil_mode=False)\n",
       "        (1): Conv2d(832, 128, kernel_size=(1, 1), stride=(1, 1))\n",
       "        (2): ReLU()\n",
       "      )\n",
       "    )\n",
       "    (2): AvgPool2d(kernel_size=7, stride=1, padding=0)\n",
       "  )\n",
       "  (layer_5): Dropout2d(p=0.4, inplace=False)\n",
       "  (fc_layer): Linear(in_features=1024, out_features=3, bias=True)\n",
       ")"
      ]
     },
     "execution_count": 9,
     "metadata": {},
     "output_type": "execute_result"
    }
   ],
   "source": [
    "# GoogleNet\n",
    "class GoogLeNet(nn.Module):\n",
    "    def __init__(self, base_dim=64, num_classes=3):\n",
    "        super(GoogLeNet, self).__init__()\n",
    "        self.num_classes=num_classes\n",
    "        self.layer_1 = nn.Sequential(\n",
    "            nn.Conv2d(in_channels = 3, out_channels= base_dim, kernel_size=7, stride = 2, padding = 3),\n",
    "            nn.MaxPool2d(3,2,1),\n",
    "            nn.Conv2d(in_channels = base_dim, out_channels=base_dim*3, kernel_size=3,stride =1,padding =1),\n",
    "            nn.MaxPool2d(3,2,1),\n",
    "        )\n",
    "        self.layer_2 = nn.Sequential(\n",
    "            inception_module(base_dim*3,64,96,128,16,32,32),\n",
    "            inception_module(base_dim*4,128,128,192,32,96,64),\n",
    "            nn.MaxPool2d(3,2,1),\n",
    "        )\n",
    "        self.layer_3 = nn.Sequential(\n",
    "            inception_module(480,192,96,208,16,48,64),\n",
    "            inception_module(512,160,112,224,24,64,64),\n",
    "            inception_module(512,128,128,256,24,64,64),\n",
    "            inception_module(512,112,144,288,32,64,64),\n",
    "            inception_module(528,256,160,320,32,128,128),\n",
    "            nn.MaxPool2d(3,2,1),\n",
    "        )\n",
    "        self.layer_4 = nn.Sequential(\n",
    "            inception_module(832,256,160,320,32,128,128),\n",
    "            inception_module(832,384,192,384,48,128,128), # 7x7x1024\n",
    "            nn.AvgPool2d(7,1), # 1x1x1024\n",
    "        )\n",
    "        self.layer_5 = nn.Dropout2d(0.4)\n",
    "        self.fc_layer = nn.Linear(1024,self.num_classes)\n",
    "                \n",
    "        \n",
    "    def forward(self, x):\n",
    "        out = self.layer_1(x)\n",
    "        out = self.layer_2(out)\n",
    "        out = self.layer_3(out)\n",
    "        out = self.layer_4(out)\n",
    "        out = self.layer_5(out)\n",
    "        out = out.view(out.shape[0],-1) \n",
    "        out = self.fc_layer(out)\n",
    "        return out\n",
    "  \n",
    "model = GoogLeNet().to(DEVICE)  # 모델 GPU로\n",
    "model # Print network"
   ]
  },
  {
   "cell_type": "code",
   "execution_count": null,
   "metadata": {
    "id": "pDAsKKght2-L"
   },
   "outputs": [],
   "source": [
    "# load trained model\n",
    "##### To do #####\n",
    "\n",
    "model = torch.load('/content/drive/MyDrive/FashionClassification/Model_TeamB')"
   ]
  },
  {
   "cell_type": "code",
   "execution_count": null,
   "metadata": {
    "id": "a2hzqbNDpqk0"
   },
   "outputs": [],
   "source": [
    "# evaluation\n",
    "model.eval()\n",
    "f_pred = []\n",
    "\n",
    "with torch.no_grad():\n",
    "  for inputs, labels in test_loader:\n",
    "    inputs, labels = Variable(inputs), Variable(labels)\n",
    "    output = model(inputs)\n",
    "\n",
    "    idx, pred = output.max(1)\n",
    "    pred = (pred.detach().cpu().numpy())\n",
    "\n",
    "    f_pred.extend(pred.tolist())"
   ]
  },
  {
   "cell_type": "code",
   "execution_count": null,
   "metadata": {
    "id": "t0-YflG7sm-f"
   },
   "outputs": [],
   "source": [
    "# converting 0/1/2 label value into Resort/Retro/Sporty\n",
    "\n",
    "for index, value in enumerate(f_pred):\n",
    "  if value==0:\n",
    "    f_pred[index]='Resort'\n",
    "  elif value==1:\n",
    "    f_pred[index]='Retro'\n",
    "  else:\n",
    "    f_pred[index]='Sporty'"
   ]
  },
  {
   "cell_type": "code",
   "execution_count": null,
   "metadata": {
    "id": "hdcO6PURwMJb"
   },
   "outputs": [],
   "source": [
    "# Submission file\n",
    "img_files = [i for i in range(len(f_pred))]\n",
    "submission = pd.DataFrame(index = range(0,len(f_pred)), columns = {'img','class'})\n",
    "submission['img'] = img_files\n",
    "submission['class'] = f_pred\n"
   ]
  },
  {
   "cell_type": "code",
   "execution_count": null,
   "metadata": {
    "colab": {
     "base_uri": "https://localhost:8080/",
     "height": 237
    },
    "executionInfo": {
     "elapsed": 5,
     "status": "ok",
     "timestamp": 1654819508436,
     "user": {
      "displayName": "Haeun Lee",
      "userId": "18204698120767963852"
     },
     "user_tz": -540
    },
    "id": "ueW1m8F2wqtg",
    "outputId": "f93c4e03-7974-4453-a068-49cc543c2f3f"
   },
   "outputs": [
    {
     "data": {
      "text/html": [
       "\n",
       "  <div id=\"df-cb9b8fd1-3938-46ab-a0bb-afc9c6e76229\">\n",
       "    <div class=\"colab-df-container\">\n",
       "      <div>\n",
       "<style scoped>\n",
       "    .dataframe tbody tr th:only-of-type {\n",
       "        vertical-align: middle;\n",
       "    }\n",
       "\n",
       "    .dataframe tbody tr th {\n",
       "        vertical-align: top;\n",
       "    }\n",
       "\n",
       "    .dataframe thead th {\n",
       "        text-align: right;\n",
       "    }\n",
       "</style>\n",
       "<table border=\"1\" class=\"dataframe\">\n",
       "  <thead>\n",
       "    <tr style=\"text-align: right;\">\n",
       "      <th></th>\n",
       "      <th>class</th>\n",
       "      <th>img</th>\n",
       "    </tr>\n",
       "  </thead>\n",
       "  <tbody>\n",
       "    <tr>\n",
       "      <th>0</th>\n",
       "      <td>Retro</td>\n",
       "      <td>0</td>\n",
       "    </tr>\n",
       "    <tr>\n",
       "      <th>1</th>\n",
       "      <td>Retro</td>\n",
       "      <td>1</td>\n",
       "    </tr>\n",
       "    <tr>\n",
       "      <th>2</th>\n",
       "      <td>Retro</td>\n",
       "      <td>2</td>\n",
       "    </tr>\n",
       "    <tr>\n",
       "      <th>3</th>\n",
       "      <td>Retro</td>\n",
       "      <td>3</td>\n",
       "    </tr>\n",
       "    <tr>\n",
       "      <th>4</th>\n",
       "      <td>Retro</td>\n",
       "      <td>4</td>\n",
       "    </tr>\n",
       "    <tr>\n",
       "      <th>5</th>\n",
       "      <td>Retro</td>\n",
       "      <td>5</td>\n",
       "    </tr>\n",
       "  </tbody>\n",
       "</table>\n",
       "</div>\n",
       "      <button class=\"colab-df-convert\" onclick=\"convertToInteractive('df-cb9b8fd1-3938-46ab-a0bb-afc9c6e76229')\"\n",
       "              title=\"Convert this dataframe to an interactive table.\"\n",
       "              style=\"display:none;\">\n",
       "        \n",
       "  <svg xmlns=\"http://www.w3.org/2000/svg\" height=\"24px\"viewBox=\"0 0 24 24\"\n",
       "       width=\"24px\">\n",
       "    <path d=\"M0 0h24v24H0V0z\" fill=\"none\"/>\n",
       "    <path d=\"M18.56 5.44l.94 2.06.94-2.06 2.06-.94-2.06-.94-.94-2.06-.94 2.06-2.06.94zm-11 1L8.5 8.5l.94-2.06 2.06-.94-2.06-.94L8.5 2.5l-.94 2.06-2.06.94zm10 10l.94 2.06.94-2.06 2.06-.94-2.06-.94-.94-2.06-.94 2.06-2.06.94z\"/><path d=\"M17.41 7.96l-1.37-1.37c-.4-.4-.92-.59-1.43-.59-.52 0-1.04.2-1.43.59L10.3 9.45l-7.72 7.72c-.78.78-.78 2.05 0 2.83L4 21.41c.39.39.9.59 1.41.59.51 0 1.02-.2 1.41-.59l7.78-7.78 2.81-2.81c.8-.78.8-2.07 0-2.86zM5.41 20L4 18.59l7.72-7.72 1.47 1.35L5.41 20z\"/>\n",
       "  </svg>\n",
       "      </button>\n",
       "      \n",
       "  <style>\n",
       "    .colab-df-container {\n",
       "      display:flex;\n",
       "      flex-wrap:wrap;\n",
       "      gap: 12px;\n",
       "    }\n",
       "\n",
       "    .colab-df-convert {\n",
       "      background-color: #E8F0FE;\n",
       "      border: none;\n",
       "      border-radius: 50%;\n",
       "      cursor: pointer;\n",
       "      display: none;\n",
       "      fill: #1967D2;\n",
       "      height: 32px;\n",
       "      padding: 0 0 0 0;\n",
       "      width: 32px;\n",
       "    }\n",
       "\n",
       "    .colab-df-convert:hover {\n",
       "      background-color: #E2EBFA;\n",
       "      box-shadow: 0px 1px 2px rgba(60, 64, 67, 0.3), 0px 1px 3px 1px rgba(60, 64, 67, 0.15);\n",
       "      fill: #174EA6;\n",
       "    }\n",
       "\n",
       "    [theme=dark] .colab-df-convert {\n",
       "      background-color: #3B4455;\n",
       "      fill: #D2E3FC;\n",
       "    }\n",
       "\n",
       "    [theme=dark] .colab-df-convert:hover {\n",
       "      background-color: #434B5C;\n",
       "      box-shadow: 0px 1px 3px 1px rgba(0, 0, 0, 0.15);\n",
       "      filter: drop-shadow(0px 1px 2px rgba(0, 0, 0, 0.3));\n",
       "      fill: #FFFFFF;\n",
       "    }\n",
       "  </style>\n",
       "\n",
       "      <script>\n",
       "        const buttonEl =\n",
       "          document.querySelector('#df-cb9b8fd1-3938-46ab-a0bb-afc9c6e76229 button.colab-df-convert');\n",
       "        buttonEl.style.display =\n",
       "          google.colab.kernel.accessAllowed ? 'block' : 'none';\n",
       "\n",
       "        async function convertToInteractive(key) {\n",
       "          const element = document.querySelector('#df-cb9b8fd1-3938-46ab-a0bb-afc9c6e76229');\n",
       "          const dataTable =\n",
       "            await google.colab.kernel.invokeFunction('convertToInteractive',\n",
       "                                                     [key], {});\n",
       "          if (!dataTable) return;\n",
       "\n",
       "          const docLinkHtml = 'Like what you see? Visit the ' +\n",
       "            '<a target=\"_blank\" href=https://colab.research.google.com/notebooks/data_table.ipynb>data table notebook</a>'\n",
       "            + ' to learn more about interactive tables.';\n",
       "          element.innerHTML = '';\n",
       "          dataTable['output_type'] = 'display_data';\n",
       "          await google.colab.output.renderOutput(dataTable, element);\n",
       "          const docLink = document.createElement('div');\n",
       "          docLink.innerHTML = docLinkHtml;\n",
       "          element.appendChild(docLink);\n",
       "        }\n",
       "      </script>\n",
       "    </div>\n",
       "  </div>\n",
       "  "
      ],
      "text/plain": [
       "   class  img\n",
       "0  Retro    0\n",
       "1  Retro    1\n",
       "2  Retro    2\n",
       "3  Retro    3\n",
       "4  Retro    4\n",
       "5  Retro    5"
      ]
     },
     "execution_count": 24,
     "metadata": {},
     "output_type": "execute_result"
    }
   ],
   "source": [
    "submission"
   ]
  },
  {
   "cell_type": "code",
   "execution_count": null,
   "metadata": {
    "id": "p36cBbc7om-4"
   },
   "outputs": [],
   "source": [
    "submission.to_csv('/content/drive/MyDrive/FashionClassification/TeamB_result.csv',index=True)"
   ]
  },
  {
   "cell_type": "code",
   "execution_count": null,
   "metadata": {
    "id": "d91w01oS7dqn"
   },
   "outputs": [],
   "source": []
  }
 ],
 "metadata": {
  "accelerator": "GPU",
  "colab": {
   "collapsed_sections": [],
   "name": "Test_FashionClassification_TeamB.ipynb",
   "provenance": [
    {
     "file_id": "1DfldxIwFeUd9Nd1p1YIqWO1mCuxpb6qk",
     "timestamp": 1651575049266
    }
   ]
  },
  "kernelspec": {
   "display_name": "Python 3 (ipykernel)",
   "language": "python",
   "name": "python3"
  },
  "language_info": {
   "codemirror_mode": {
    "name": "ipython",
    "version": 3
   },
   "file_extension": ".py",
   "mimetype": "text/x-python",
   "name": "python",
   "nbconvert_exporter": "python",
   "pygments_lexer": "ipython3",
   "version": "3.9.7"
  }
 },
 "nbformat": 4,
 "nbformat_minor": 1
}
